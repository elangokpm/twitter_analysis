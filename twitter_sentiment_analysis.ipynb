{
 "cells": [
  {
   "cell_type": "code",
   "execution_count": 1,
   "metadata": {},
   "outputs": [
    {
     "name": "stdout",
     "output_type": "stream",
     "text": [
      "Requirement already satisfied: tweepy in c:\\users\\srisai\\anaconda3\\lib\\site-packages\\tweepy-3.6.0-py3.6.egg\n",
      "Requirement already satisfied: requests>=2.11.1 in c:\\users\\srisai\\anaconda3\\lib\\site-packages (from tweepy)\n",
      "Requirement already satisfied: requests_oauthlib>=0.7.0 in c:\\users\\srisai\\anaconda3\\lib\\site-packages\\requests_oauthlib-0.8.0-py3.6.egg (from tweepy)\n",
      "Requirement already satisfied: six>=1.10.0 in c:\\users\\srisai\\anaconda3\\lib\\site-packages (from tweepy)\n",
      "Requirement already satisfied: PySocks>=1.5.7 in c:\\users\\srisai\\anaconda3\\lib\\site-packages (from tweepy)\n",
      "Requirement already satisfied: chardet<3.1.0,>=3.0.2 in c:\\users\\srisai\\anaconda3\\lib\\site-packages (from requests>=2.11.1->tweepy)\n",
      "Requirement already satisfied: idna<2.7,>=2.5 in c:\\users\\srisai\\anaconda3\\lib\\site-packages (from requests>=2.11.1->tweepy)\n",
      "Requirement already satisfied: urllib3<1.23,>=1.21.1 in c:\\users\\srisai\\anaconda3\\lib\\site-packages (from requests>=2.11.1->tweepy)\n",
      "Requirement already satisfied: certifi>=2017.4.17 in c:\\users\\srisai\\anaconda3\\lib\\site-packages (from requests>=2.11.1->tweepy)\n",
      "Requirement already satisfied: oauthlib>=0.6.2 in c:\\users\\srisai\\anaconda3\\lib\\site-packages\\oauthlib-2.0.6-py3.6.egg (from requests_oauthlib>=0.7.0->tweepy)\n"
     ]
    }
   ],
   "source": [
    "!pip install tweepy"
   ]
  },
  {
   "cell_type": "code",
   "execution_count": 3,
   "metadata": {},
   "outputs": [
    {
     "name": "stdout",
     "output_type": "stream",
     "text": [
      "Requirement already satisfied: textblob in c:\\users\\srisai\\anaconda3\\lib\\site-packages\\textblob-0.15.1-py3.6.egg\n",
      "Requirement already satisfied: nltk>=3.1 in c:\\users\\srisai\\anaconda3\\lib\\site-packages (from textblob)\n",
      "Requirement already satisfied: six in c:\\users\\srisai\\anaconda3\\lib\\site-packages (from nltk>=3.1->textblob)\n"
     ]
    }
   ],
   "source": [
    "!pip install textblob"
   ]
  },
  {
   "cell_type": "code",
   "execution_count": 4,
   "metadata": {},
   "outputs": [],
   "source": [
    "import tweepy\n",
    "import textblob"
   ]
  },
  {
   "cell_type": "code",
   "execution_count": 5,
   "metadata": {
    "collapsed": true
   },
   "outputs": [],
   "source": [
    "consumer_key = 'yrESqTsiYcnzeeil2YMN82ceZ'\n",
    "consumer_secret = 'szTJvF0L6u7gO1x8doouP0qtv0hzj8aD5Fb4CCsTzWsy6jDaXU'\n",
    "\n",
    "access_token = '357884440-4kfOUUSkt8gn42IUgCDPcW2XyvpqvKlt9TQgBnjo'\n",
    "access_token_secret = 'Vs4YE2EifOxqR7AQyFGHDZGNNVRLoNIeL6CYdc7FXXHLY'"
   ]
  },
  {
   "cell_type": "code",
   "execution_count": 6,
   "metadata": {
    "collapsed": true
   },
   "outputs": [],
   "source": [
    "auth = tweepy.OAuthHandler(consumer_key,consumer_secret)"
   ]
  },
  {
   "cell_type": "code",
   "execution_count": 7,
   "metadata": {
    "collapsed": true
   },
   "outputs": [],
   "source": [
    "auth.set_access_token(access_token,access_token_secret)"
   ]
  },
  {
   "cell_type": "code",
   "execution_count": 8,
   "metadata": {
    "collapsed": true
   },
   "outputs": [],
   "source": [
    "api = tweepy.API(auth)"
   ]
  },
  {
   "cell_type": "code",
   "execution_count": 11,
   "metadata": {
    "collapsed": true
   },
   "outputs": [],
   "source": [
    "tweets = api.search('modi')"
   ]
  },
  {
   "cell_type": "code",
   "execution_count": 80,
   "metadata": {},
   "outputs": [
    {
     "name": "stdout",
     "output_type": "stream",
     "text": [
      "b'\"With@OfficeOfRG\",\"AryanSa92289113\",\"Sirsa, Haryana \",\"2018-01-22 13:38:17\",\"@jigneshmevani80 @narendramodi Modi himself does not have any skill so how can he challenge hegde #HegdeMustResign\",\"neutral\"'\n",
      "b'\"Sid Verma\",\"sid_050175\",\"Delhi\",\"2018-01-22 13:38:17\",\"RT @Forbes: https://t.co/9sNZR0kpU4\",\"neutral\"'\n",
      "b'\"Kalpana Chowdhary\",\"kalpanadivith\",\"India\",\"2018-01-22 13:38:16\",\"RT @drkiritpsolanki: Narendra Modi interview: PM says under NDA, turnaround for India is from part of fragile 5 to being a bright... htt\",\"positive\"'\n",
      "b'\"Arpan\",\"DropDeadLazy\",\"Homeless\",\"2018-01-22 13:38:16\",\"RT @pratyasharath: Modi ji should get interviewd by AAP party members? https://t.co/YRM9D3QVGW\",\"neutral\"'\n",
      "b'\"Abheet\",\"journo_abheet\",\"Delhi\",\"2018-01-22 13:38:16\",\"RT @NewsMobileIndia: PM @narendramodi in @Davos: Heres what he will feast tonight\\n https://t.co/1B5vPdIUvA\\n#Davos #Davos18 #ModiAtDavos\",\"neutral\"'\n",
      "b'\"laxmidatt katara \",\"KataraLaxmidatt\",\"Jaipur, India\",\"2018-01-22 13:38:16\",\"RT @VasundharaBJP: Towards a #NewIndia . . .\\nIndia\\'s global rankings, improved image, result of good governance: PM Modi \\n https://t.co/p31\",\"positive\"'\n",
      "b'\"Rahul Bhartia\",\"rahul_bhartia\",\"Chhattisgarh, India\",\"2018-01-22 13:38:16\",\"RT @NirjhariSinha: Modi should spend less time abroad telling foreigners how well India is doing, and more time at home asking people how t\",\"positive\"'\n",
      "b'\"Alok Rajan\",\"rajanalok1\",\"Portharcourt, Nigeria\",\"2018-01-22 13:38:14\",\"@sushantsareen People who believe in good journalism take Sudhir Tihari seriously, you believe! Modi bhakti has mad https://t.co/F86GBq6oQY\",\"positive\"'\n",
      "b'\"L.S. dashora\",\"lsdashora\",\"\",\"2018-01-22 13:38:14\",\"RT @TimesNow: On the Ease Of Living,  I took the big step of Ujwala and provided gas to 3,30,00,000 families. I may even complete the targe\",\"positive\"'\n",
      "b'\"pushpa srivastav.\",\"pushpaji91\",\"Ballia, India\",\"2018-01-22 13:38:14\",\"RT @Youarestupidre1: @ShabbirGawai1 @VasuChandnani @Rashtraputra @aajtak Ha hai ham Modi bhakt. Aapke jaise Kanhaiya Kumar bhakt, Akbaruddi\",\"neutral\"'\n",
      "b'\"Arun Yadav\",\"MPArunYadav\",\"Bhopal-Khandwa-Delhi\",\"2018-01-22 13:38:14\",\"RT @OfficeOfRG:        \\n       \\n,     \\n   \\n \",\"neutral\"'\n",
      "b'\"Gaurishanker\",\"gary_jmp\",\"Assam, India\",\"2018-01-22 13:38:14\",\"RT @Ish_Bhandari: People who never dared to ask a tough question to Gandhis in entire life, now saying Media did Soft Interview of PM Modi\",\"negative\"'\n",
      "b'\"G D SHARMA\",\"gdsharma1391\",\"Bhagalpur, India\",\"2018-01-22 13:38:13\",\"RT @OfficeOfRG:        \\n       \\n,     \\n   \\n \",\"neutral\"'\n",
      "b'\"Achintiyah\",\"Achintiyah\",\"\",\"2018-01-22 13:38:13\",\"Under Economist wala PM, India was struggling to finish among the top 10\\nUnder Chaiwala PM, India is skyrocketing i https://t.co/gBEpgwDV0i\",\"positive\"'\n",
      "b'\"Arvind Lodha\",\"AB_BJP\",\"pune\",\"2018-01-22 13:38:11\",\"RT @WSJ: Davos is Narendra Modis big stage to push a muscular vision of India https://t.co/BC3PHzPRP3 https://t.co/eeHVI15H9M\",\"neutral\"'\n"
     ]
    }
   ],
   "source": [
    "with open('tweeter.csv','w') as myfile:   \n",
    "    for tweet in tweets:\n",
    "        analysis = textblob.TextBlob(tweet.text)\n",
    "        sentiment = 'neutral'\n",
    "        if analysis.sentiment.polarity > 0:\n",
    "            sentiment = 'positive'\n",
    "        elif analysis.sentiment.polarity < 0:\n",
    "            sentiment = 'negative'  \n",
    "        s = str('\"'+tweet.user.name+'\",\"'+tweet.user.screen_name+'\",\"'+tweet.user.location+'\",\"'+str(tweet.created_at)+'\",\"'+tweet.text+'\",\"'+sentiment+'\"')\n",
    "        s = s.encode('ascii','ignore')\n",
    "        print(s)\n",
    "        myfile.write(s.decode(\"utf-8\"))\n",
    "        myfile.write('\\n')       "
   ]
  },
  {
   "cell_type": "code",
   "execution_count": null,
   "metadata": {
    "collapsed": true
   },
   "outputs": [],
   "source": []
  }
 ],
 "metadata": {
  "kernelspec": {
   "display_name": "Python 3",
   "language": "python",
   "name": "python3"
  },
  "language_info": {
   "codemirror_mode": {
    "name": "ipython",
    "version": 3
   },
   "file_extension": ".py",
   "mimetype": "text/x-python",
   "name": "python",
   "nbconvert_exporter": "python",
   "pygments_lexer": "ipython3",
   "version": "3.6.3"
  }
 },
 "nbformat": 4,
 "nbformat_minor": 2
}
